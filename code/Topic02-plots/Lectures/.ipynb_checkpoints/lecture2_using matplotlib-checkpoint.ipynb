{
 "cells": [
  {
   "cell_type": "markdown",
   "id": "09e2fabb",
   "metadata": {},
   "source": [
    "# Using matplotlib\n",
    "This code was written during a programming for Data Analytics Lecture\n",
    "\n",
    "### import the packages\n",
    "`matplotlib.pyplot`\n",
    "and\n",
    "\n",
    "`numpy`"
   ]
  },
  {
   "cell_type": "code",
   "execution_count": null,
   "id": "aabe290f",
   "metadata": {},
   "outputs": [],
   "source": []
  },
  {
   "cell_type": "markdown",
   "id": "55eb8aea",
   "metadata": {},
   "source": [
    "###### Some data\n",
    "\n",
    "Create some data\n",
    "\n",
    "`np.arrange()` will create a series"
   ]
  },
  {
   "cell_type": "code",
   "execution_count": null,
   "id": "5366ff4a",
   "metadata": {},
   "outputs": [],
   "source": []
  },
  {
   "cell_type": "markdown",
   "id": "981e448c",
   "metadata": {},
   "source": [
    "### Making a plot\n",
    "using \n",
    "\n",
    "`fig, ax = plt.subplots()`\n",
    "\n",
    "and\n",
    "\n",
    "`plt.show()`"
   ]
  },
  {
   "cell_type": "code",
   "execution_count": null,
   "id": "70ef8d61",
   "metadata": {
    "scrolled": true
   },
   "outputs": [],
   "source": []
  },
  {
   "cell_type": "markdown",
   "id": "321058b1",
   "metadata": {},
   "source": [
    "#### set()\n",
    "Setting parametes on plot using \n",
    "\n",
    "`set()`\n",
    "\n",
    "it can take parameters `xlim`, `xlabel`, `title` and many more"
   ]
  },
  {
   "cell_type": "code",
   "execution_count": null,
   "id": "cc075a59",
   "metadata": {
    "scrolled": false
   },
   "outputs": [],
   "source": []
  },
  {
   "cell_type": "markdown",
   "id": "319e5f11",
   "metadata": {},
   "source": [
    "#### The axis functions\n",
    "Or we can use the functions in axis\n",
    "\n",
    "`set_title`\n",
    "`set_xlabel`\n",
    "`set_ylabel`"
   ]
  },
  {
   "cell_type": "code",
   "execution_count": null,
   "id": "e7823208",
   "metadata": {},
   "outputs": [],
   "source": []
  },
  {
   "cell_type": "markdown",
   "id": "65ea5054",
   "metadata": {},
   "source": [
    "#### Format the labels\n",
    "Use a formatter function to format the labels\n",
    "using \n",
    "\n",
    "`ax.xaxis.set_major_formatter(formatter_fun)`\n",
    "###### The function that will do the formatting\n",
    "It takes two parameters the value on the axis and the position of the tick\n",
    "It should return text as it should appear"
   ]
  },
  {
   "cell_type": "code",
   "execution_count": null,
   "id": "a9bfca9c",
   "metadata": {},
   "outputs": [],
   "source": []
  },
  {
   "cell_type": "markdown",
   "id": "24a8d306",
   "metadata": {},
   "source": [
    "###### Pass the function to \n",
    "`ax.xaxis.set_major_formatter()`"
   ]
  },
  {
   "cell_type": "code",
   "execution_count": null,
   "id": "44fd759d",
   "metadata": {
    "scrolled": true
   },
   "outputs": [],
   "source": []
  },
  {
   "cell_type": "markdown",
   "id": "13aae86b",
   "metadata": {},
   "source": [
    "### Add text\n",
    "Using text()\n",
    "\n",
    "`ax.text(x, y, \"text to add\", fontsize=10, erticalalignment=\"center\")`"
   ]
  },
  {
   "cell_type": "code",
   "execution_count": null,
   "id": "9e318ca8",
   "metadata": {
    "scrolled": true
   },
   "outputs": [],
   "source": []
  },
  {
   "cell_type": "markdown",
   "id": "da9aa3fc",
   "metadata": {},
   "source": [
    "#### Annotations \n",
    "I love these\n",
    "\n",
    "ax.annotate('`text', (x_pointer, y_pointer), xytext=(x, y)) \n",
    "            "
   ]
  },
  {
   "cell_type": "code",
   "execution_count": null,
   "id": "da8fd87e",
   "metadata": {
    "scrolled": false
   },
   "outputs": [],
   "source": [
    "\n"
   ]
  },
  {
   "cell_type": "markdown",
   "id": "e6fcc3be",
   "metadata": {},
   "source": []
  },
  {
   "cell_type": "code",
   "execution_count": null,
   "id": "43f7fd20",
   "metadata": {},
   "outputs": [],
   "source": []
  }
 ],
 "metadata": {
  "kernelspec": {
   "display_name": "Python 3 (ipykernel)",
   "language": "python",
   "name": "python3"
  },
  "language_info": {
   "codemirror_mode": {
    "name": "ipython",
    "version": 3
   },
   "file_extension": ".py",
   "mimetype": "text/x-python",
   "name": "python",
   "nbconvert_exporter": "python",
   "pygments_lexer": "ipython3",
   "version": "3.9.7"
  }
 },
 "nbformat": 4,
 "nbformat_minor": 5
}
