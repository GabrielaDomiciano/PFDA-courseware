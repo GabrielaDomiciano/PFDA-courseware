{
 "cells": [
  {
   "cell_type": "markdown",
   "id": "d6a48233-0736-4791-ab09-b9e432700780",
   "metadata": {},
   "source": [
    "# Numpy\n",
    "\n",
    "*Programming for Data Analytics*  \n",
    "Based on a notebook on [google colabs](https://colab.research.google.com/github/ffund/ml-notebooks/blob/master/notebooks/1-python-numpy-tutorial.ipynb#scrollTo=b8c81981-ec2e-4984-bc03-c0d6ebd5b1b0)"
   ]
  },
  {
   "cell_type": "markdown",
   "id": "b8c81981-ec2e-4984-bc03-c0d6ebd5b1b0",
   "metadata": {},
   "source": [
    "## Introduction"
   ]
  },
  {
   "cell_type": "markdown",
   "id": "b4cf4645-5505-4059-87fe-1c9c6052958f",
   "metadata": {},
   "source": [
    "Numpy high performance module for scientific computing in Python. specifically it allows for fast operations on arrays of data. \n",
    "Numpy is far more efficient at processing data than lists, dictionaries or tuples.  \n",
    "Numpy deals with arrays. Series in pandas are based on Numpy arrays.  \n"
   ]
  },
  {
   "cell_type": "markdown",
   "id": "61e9f793-d834-4362-bd11-47754caa6fd0",
   "metadata": {},
   "source": [
    " By convention, we import it using the alias `np`. "
   ]
  },
  {
   "cell_type": "code",
   "execution_count": 19,
   "id": "03ba5ce8-938d-4219-8237-3e08291c2318",
   "metadata": {},
   "outputs": [],
   "source": [
    "import numpy as np"
   ]
  },
  {
   "cell_type": "markdown",
   "id": "190fe0ab-4ee6-459d-8492-c816258b0286",
   "metadata": {},
   "source": [
    "### Arrays and array construction"
   ]
  },
  {
   "cell_type": "markdown",
   "id": "b86ed7e5-47cf-4dbc-a950-8d6b3ad52f57",
   "metadata": {},
   "source": [
    "A numpy array is a grid of values, all of the same type, and is indexed by a tuple of nonnegative integers. The number of dimensions is the rank of the array; the shape of an array is a tuple of integers giving the size of the array along each dimension."
   ]
  },
  {
   "cell_type": "markdown",
   "id": "0964684d-78c5-4619-8145-d224cffb1d8a",
   "metadata": {},
   "source": [
    "We can create a `numpy` array by passing a Python list to `np.array()`."
   ]
  },
  {
   "cell_type": "code",
   "execution_count": 21,
   "id": "8e173212-5a79-437b-a7b6-5346e439de82",
   "metadata": {},
   "outputs": [],
   "source": [
    "a = np.array([1, 2, 3])  # Create a rank 1 array"
   ]
  },
  {
   "cell_type": "markdown",
   "id": "eb5aac84-6891-446a-9a67-d5f4309f2ba6",
   "metadata": {},
   "source": [
    "This creates the array we can see on the right here:\n",
    "\n",
    "![](http://jalammar.github.io/images/numpy/create-numpy-array-1.png)"
   ]
  },
  {
   "cell_type": "code",
   "execution_count": 24,
   "id": "a5dd201a-213d-417a-8542-e32ceb55a687",
   "metadata": {},
   "outputs": [
    {
     "name": "stdout",
     "output_type": "stream",
     "text": [
      "<class 'numpy.ndarray'> (3, 4) [1 2 3 4] [5 6 7 8] [ 9 10 11 12]\n",
      "[[ 5  5  5  5]\n",
      " [ 5  6  7  8]\n",
      " [ 9 10 11 12]]\n"
     ]
    }
   ],
   "source": [
    "a = np.array([[1,2,3,4],[5,6,7,8],[9,10,11,12]])\n",
    "print(type(a), a.shape, a[0], a[1], a[2])\n",
    "a[0] = 5                 # Change an element of the array\n",
    "print(a)                  "
   ]
  },
  {
   "cell_type": "markdown",
   "id": "234030fa-8140-4f6e-8b8e-2a94ad931778",
   "metadata": {},
   "source": [
    "To create a `numpy` array with more dimensions, we can pass nested lists, like this:\n",
    "\n",
    "![](http://jalammar.github.io/images/numpy/numpy-array-create-2d.png)\n",
    "\n",
    "![](http://jalammar.github.io/images/numpy/numpy-3d-array.png)"
   ]
  },
  {
   "cell_type": "code",
   "execution_count": 25,
   "id": "3ff3db12-c0d1-4895-8ba7-200bbdf41d0f",
   "metadata": {},
   "outputs": [
    {
     "name": "stdout",
     "output_type": "stream",
     "text": [
      "[[1 2]\n",
      " [3 4]]\n"
     ]
    }
   ],
   "source": [
    "b = np.array([[1,2],[3,4]])   # Create a rank 2 array\n",
    "print(b)"
   ]
  },
  {
   "cell_type": "code",
   "execution_count": 26,
   "id": "3898a66e-cde5-4749-980c-f72e5e453a10",
   "metadata": {},
   "outputs": [
    {
     "name": "stdout",
     "output_type": "stream",
     "text": [
      "(2, 2)\n"
     ]
    }
   ],
   "source": [
    "print(b.shape)"
   ]
  },
  {
   "cell_type": "markdown",
   "id": "59994140-982d-44d4-b735-c368cf11ab8c",
   "metadata": {},
   "source": [
    "There are often cases when we want numpy to initialize the values of the array for us. numpy provides methods like `ones()`, `zeros()`, and `random.random()` for these cases. We just pass them the number of elements we want it to generate:\n",
    "\n",
    "![](http://jalammar.github.io/images/numpy/create-numpy-array-ones-zeros-random.png)"
   ]
  },
  {
   "cell_type": "markdown",
   "id": "f5cd30f4-91ac-421a-b25a-8cfbddb518c7",
   "metadata": {},
   "source": [
    "We can also use these methods to produce multi-dimensional arrays, as long as we pass them a tuple describing the dimensions of the matrix we want to create:\n",
    "\n",
    "![](http://jalammar.github.io/images/numpy/numpy-matrix-ones-zeros-random.png)\n",
    "\n",
    "![](http://jalammar.github.io/images/numpy/numpy-3d-array-creation.png)"
   ]
  },
  {
   "cell_type": "markdown",
   "id": "735fccf7-462b-4091-9c87-d1ea8add559c",
   "metadata": {},
   "source": [
    "Sometimes, we need an array of a specific shape with “placeholder” values that we plan to fill in with the result of a computation. The `zeros` or `ones` functions are handy for this:"
   ]
  },
  {
   "cell_type": "code",
   "execution_count": null,
   "id": "61dddfaf-a5eb-4d3d-a59d-85ea7e18d71a",
   "metadata": {},
   "outputs": [],
   "source": [
    "a = np.zeros((2,2))  # Create an array of all zeros\n",
    "print(a)"
   ]
  },
  {
   "cell_type": "code",
   "execution_count": null,
   "id": "aab64565-d940-42ae-915b-58c564384d48",
   "metadata": {},
   "outputs": [],
   "source": [
    "b = np.ones((1,2))   # Create an array of all ones\n",
    "print(b)"
   ]
  },
  {
   "cell_type": "code",
   "execution_count": null,
   "id": "121ece5c-b965-44a1-9643-44c4b29e1c5a",
   "metadata": {},
   "outputs": [],
   "source": [
    "c = np.full((2,2), 7) # Create a constant array\n",
    "print(c)"
   ]
  },
  {
   "cell_type": "code",
   "execution_count": null,
   "id": "70627e5f-197d-46cf-984e-dfba32277650",
   "metadata": {},
   "outputs": [],
   "source": [
    "d = np.eye(2)        # Create a 2x2 identity matrix\n",
    "print(d)"
   ]
  },
  {
   "cell_type": "code",
   "execution_count": null,
   "id": "6f0c09f0-3894-47fd-a349-4ecc04fb9aad",
   "metadata": {},
   "outputs": [],
   "source": [
    "e = np.random.random((2,2)) # Create an array filled with random values\n",
    "print(e)"
   ]
  },
  {
   "cell_type": "markdown",
   "id": "64c38479-b55e-4dfc-8474-90d4782c0722",
   "metadata": {},
   "source": [
    "Numpy also has two useful functions for creating sequences of numbers: `arange` and `linspace`.\n",
    "\n",
    "The `arange` function accepts three arguments, which define the start value, stop value of a half-open interval, and step size. (The default step size, if not explicitly specified, is 1; the default start value, if not explicitly specified, is 0.)\n",
    "\n",
    "The `linspace` function is similar, but we can specify the number of values instead of the step size, and it will create a sequence of evenly spaced values."
   ]
  },
  {
   "cell_type": "code",
   "execution_count": 27,
   "id": "1c6208b2-5503-4fb0-9902-439bf83df7b0",
   "metadata": {},
   "outputs": [
    {
     "name": "stdout",
     "output_type": "stream",
     "text": [
      "[10 15 20 25 30 35 40 45]\n"
     ]
    }
   ],
   "source": [
    "f = np.arange(10,50,5)   # Create an array of values starting at 10 in increments of 5\n",
    "print(f)"
   ]
  },
  {
   "cell_type": "markdown",
   "id": "9d78987c-9542-4ecf-8ce5-153be2bc29a2",
   "metadata": {},
   "source": [
    "Note this ends on 45, not 50 (does not include the top end of the interval, similar to `range`)."
   ]
  },
  {
   "cell_type": "code",
   "execution_count": 32,
   "id": "9e23b524-d187-4da2-bc91-6fb6ea401764",
   "metadata": {},
   "outputs": [
    {
     "name": "stdout",
     "output_type": "stream",
     "text": [
      "[0.  0.1 0.2 0.3 0.4 0.5 0.6 0.7 0.8 0.9 1. ]\n"
     ]
    }
   ],
   "source": [
    "g = np.linspace(0, 1, num=11)\n",
    "print(g)"
   ]
  },
  {
   "cell_type": "markdown",
   "id": "4a46dbd6-7be1-4cff-99b0-0fa9727e638f",
   "metadata": {},
   "source": [
    "Sometimes, we may want to construct an array from existing arrays by “stacking” the existing arrays, either vertically or horizontally. We can use `vstack()` (or `row_stack`) and `hstack()` (or `column_stack`), respectively."
   ]
  },
  {
   "cell_type": "code",
   "execution_count": 5,
   "id": "8f18be1e-aaf6-4434-83fd-beb4a5f12375",
   "metadata": {},
   "outputs": [
    {
     "data": {
      "text/plain": [
       "array([[1, 2, 3],\n",
       "       [4, 5, 6]])"
      ]
     },
     "execution_count": 5,
     "metadata": {},
     "output_type": "execute_result"
    }
   ],
   "source": [
    "a = np.array([1, 2, 3])\n",
    "b = np.array([4, 5, 6])\n",
    "np.vstack((a,b))"
   ]
  },
  {
   "cell_type": "code",
   "execution_count": 6,
   "id": "1b2c6801-7af0-4b5d-a6cc-8e95997c50b4",
   "metadata": {},
   "outputs": [
    {
     "data": {
      "text/plain": [
       "array([[7, 4],\n",
       "       [8, 5],\n",
       "       [9, 6]])"
      ]
     },
     "execution_count": 6,
     "metadata": {},
     "output_type": "execute_result"
    }
   ],
   "source": [
    "a = np.array([[7], [8], [9]])\n",
    "b = np.array([[4], [5], [6]])\n",
    "np.hstack((a,b))"
   ]
  },
  {
   "cell_type": "markdown",
   "id": "e5fcad1c-e41e-49cf-b525-d1346167594a",
   "metadata": {},
   "source": [
    "### Array indexing"
   ]
  },
  {
   "cell_type": "markdown",
   "id": "83f93d78-5e62-45d1-a37f-3083dd808190",
   "metadata": {},
   "source": [
    "Numpy offers several ways to index into arrays."
   ]
  },
  {
   "cell_type": "markdown",
   "id": "054e77f3-7369-426c-99ee-79ef4ad3252a",
   "metadata": {},
   "source": [
    "We can index and slice numpy arrays in all the ways we can slice Python lists:\n",
    "\n",
    "![](http://jalammar.github.io/images/numpy/numpy-array-slice.png)\n",
    "\n",
    "And you can index and slice numpy arrays in multiple dimensions. If slicing an array with more than one dimension, you should specify a slice for each dimension:\n",
    "\n",
    "![](http://jalammar.github.io/images/numpy/numpy-matrix-indexing.png)"
   ]
  },
  {
   "cell_type": "code",
   "execution_count": 33,
   "id": "d94de2b0-983c-45ca-b36c-524a2db3a32c",
   "metadata": {},
   "outputs": [
    {
     "name": "stdout",
     "output_type": "stream",
     "text": [
      "[[2 3]\n",
      " [6 7]]\n"
     ]
    }
   ],
   "source": [
    "# Create the following rank 2 array with shape (3, 4)\n",
    "# [[ 1  2  3  4]\n",
    "#  [ 5  6  7  8]\n",
    "#  [ 9 10 11 12]]\n",
    "a = np.array([[1,2,3,4], [5,6,7,8], [9,10,11,12]])\n",
    "\n",
    "# Use slicing to pull out the subarray consisting of the first 2 rows\n",
    "# and columns 1 and 2; b is the following array of shape (2, 2):\n",
    "# [[2 3]\n",
    "#  [6 7]]\n",
    "b = a[:2, 1:3]\n",
    "print(b)"
   ]
  },
  {
   "cell_type": "markdown",
   "id": "fadca993-9d2e-4dde-9388-6415fadeef98",
   "metadata": {},
   "source": [
    "A slice of an array is a view into the same data, so modifying it will modify the original array. (Reference to values)"
   ]
  },
  {
   "cell_type": "code",
   "execution_count": 34,
   "id": "1041b4a5-4e49-4119-917e-615561fcf570",
   "metadata": {},
   "outputs": [
    {
     "name": "stdout",
     "output_type": "stream",
     "text": [
      "2\n",
      "77\n"
     ]
    }
   ],
   "source": [
    "print(a[0, 1])\n",
    "b[0, 0] = 77    # b[0, 0] is the same piece of data as a[0, 1]\n",
    "print(a[0, 1]) "
   ]
  },
  {
   "cell_type": "markdown",
   "id": "995e2a9c-2f80-469e-a40c-76a1d94a5841",
   "metadata": {},
   "source": [
    "You can also mix integer indexing with slice indexing. However, doing so will yield an array of lower rank than the original array.  \n",
    "Note: That this is quite different from the way that MATLAB handles array slicing:"
   ]
  },
  {
   "cell_type": "code",
   "execution_count": 9,
   "id": "b608b60c-5379-497f-9e11-d8f2caf05c55",
   "metadata": {},
   "outputs": [
    {
     "name": "stdout",
     "output_type": "stream",
     "text": [
      "[[ 1  2  3  4]\n",
      " [ 5  6  7  8]\n",
      " [ 9 10 11 12]]\n"
     ]
    }
   ],
   "source": [
    "# Create the following rank 2 array with shape (3, 4)\n",
    "a = np.array([[1,2,3,4], [5,6,7,8], [9,10,11,12]])\n",
    "print(a)"
   ]
  },
  {
   "cell_type": "markdown",
   "id": "58f38253-463c-48d0-a702-3ddf94120629",
   "metadata": {},
   "source": [
    "Two ways of accessing the data in the middle row of the array. Mixing integer indexing with slices yields an array of lower rank, while using only slices yields an array of the same rank as the original array:"
   ]
  },
  {
   "cell_type": "code",
   "execution_count": 35,
   "id": "0c3dd6e7-04b8-4f7a-b233-117cde5e2b4e",
   "metadata": {},
   "outputs": [
    {
     "name": "stdout",
     "output_type": "stream",
     "text": [
      "[5 6 7 8] (4,)\n",
      "[[5 6 7 8]] (1, 4)\n",
      "[[5 6 7 8]] (1, 4)\n"
     ]
    }
   ],
   "source": [
    "row_r1 = a[1, :]    # Rank 1 view of the second row of a  \n",
    "row_r2 = a[1:2, :]  # Rank 2 view of the second row of a\n",
    "row_r3 = a[[1], :]  # Rank 2 view of the second row of a\n",
    "print(row_r1, row_r1.shape)\n",
    "print(row_r2, row_r2.shape)\n",
    "print(row_r3, row_r3.shape)"
   ]
  },
  {
   "cell_type": "code",
   "execution_count": 11,
   "id": "d1c9bb25-d326-454b-89e3-be5139149855",
   "metadata": {},
   "outputs": [
    {
     "name": "stdout",
     "output_type": "stream",
     "text": [
      "[ 2  6 10] (3,)\n",
      "\n",
      "[[ 2]\n",
      " [ 6]\n",
      " [10]] (3, 1)\n"
     ]
    }
   ],
   "source": [
    "# We can make the same distinction when accessing columns of an array:\n",
    "col_r1 = a[:, 1]\n",
    "col_r2 = a[:, 1:2]\n",
    "print(col_r1, col_r1.shape)\n",
    "print()\n",
    "print(col_r2, col_r2.shape)"
   ]
  },
  {
   "cell_type": "markdown",
   "id": "a7835461-34e9-4437-8f9b-ad6b909de079",
   "metadata": {},
   "source": [
    "Integer array indexing: When you index into numpy arrays using slicing, the resulting array view will always be a subarray of the original array. In contrast, integer array indexing allows you to construct arbitrary arrays using the data from another array. Here is an example:"
   ]
  },
  {
   "cell_type": "code",
   "execution_count": null,
   "id": "806d91e7-981a-4955-9e1b-ea0226eec00e",
   "metadata": {},
   "outputs": [],
   "source": [
    "a = np.array([[1,2], [3, 4], [5, 6]])\n",
    "\n",
    "# An example of integer array indexing.\n",
    "# The returned array will have shape (3,) and \n",
    "print(a[[0, 1, 2], [0, 1, 0]])\n",
    "\n",
    "# The above example of integer array indexing is equivalent to this:\n",
    "print(np.array([a[0, 0], a[1, 1], a[2, 0]]))"
   ]
  },
  {
   "cell_type": "code",
   "execution_count": null,
   "id": "07ae8f7b-ea13-4cfe-b26a-3fb6cdda4bdd",
   "metadata": {},
   "outputs": [],
   "source": [
    "# When using integer array indexing, you can reuse the same\n",
    "# element from the source array:\n",
    "print(a[[0, 0], [1, 1]])\n",
    "\n",
    "# Equivalent to the previous integer array indexing example\n",
    "print(np.array([a[0, 1], a[0, 1]]))"
   ]
  },
  {
   "cell_type": "markdown",
   "id": "24ebdd61-2313-4aec-a02a-e4b898906ec5",
   "metadata": {},
   "source": [
    "One useful trick with integer array indexing is selecting or mutating one element from each row of a matrix:"
   ]
  },
  {
   "cell_type": "code",
   "execution_count": null,
   "id": "1260ecb9-799c-4a08-8d77-5da2abc5db8f",
   "metadata": {},
   "outputs": [],
   "source": [
    "# Create a new array from which we will select elements\n",
    "a = np.array([[1,2,3], [4,5,6], [7,8,9], [10, 11, 12]])\n",
    "print(a)"
   ]
  },
  {
   "cell_type": "code",
   "execution_count": null,
   "id": "76d3c86a-3d03-423d-909b-09598b903965",
   "metadata": {},
   "outputs": [],
   "source": [
    "# Create an array of indices\n",
    "b = np.array([0, 2, 0, 1])\n",
    "\n",
    "# Select one element from each row of a using the indices in b\n",
    "print(a[np.arange(4), b])  # Prints \"[ 1  6  7 11]\""
   ]
  },
  {
   "cell_type": "code",
   "execution_count": null,
   "id": "4a3a192e-ba4f-481e-92c5-2b625bcb2a80",
   "metadata": {},
   "outputs": [],
   "source": [
    "# Mutate one element from each row of a using the indices in b\n",
    "a[np.arange(4), b] += 10\n",
    "print(a)"
   ]
  },
  {
   "cell_type": "markdown",
   "id": "e61369aa-296b-428c-84df-54a0e3a69e31",
   "metadata": {},
   "source": [
    "Boolean array indexing: Boolean array indexing lets you pick out arbitrary elements of an array. Frequently this type of indexing is used to select the elements of an array that satisfy some condition. Here is an example:"
   ]
  },
  {
   "cell_type": "code",
   "execution_count": 36,
   "id": "92dd26a4-a2d2-4d0d-9d9a-6c9de8d4dbcd",
   "metadata": {},
   "outputs": [
    {
     "name": "stdout",
     "output_type": "stream",
     "text": [
      "[[False False]\n",
      " [ True  True]\n",
      " [ True  True]]\n"
     ]
    }
   ],
   "source": [
    "import numpy as np\n",
    "\n",
    "a = np.array([[1,2], [3, 4], [5, 6]])\n",
    "\n",
    "bool_idx = (a > 2)  # Find the elements of a that are bigger than 2;\n",
    "                    # this returns a numpy array of Booleans of the same\n",
    "                    # shape as a, where each slot of bool_idx tells\n",
    "                    # whether that element of a is > 2.\n",
    "\n",
    "print(bool_idx)"
   ]
  },
  {
   "cell_type": "code",
   "execution_count": 37,
   "id": "52f31c05-406f-4c5d-ad25-212194c69cd0",
   "metadata": {},
   "outputs": [
    {
     "name": "stdout",
     "output_type": "stream",
     "text": [
      "[3 4 5 6]\n",
      "[3 4 5 6]\n"
     ]
    }
   ],
   "source": [
    "# We use boolean array indexing to construct a rank 1 array\n",
    "# consisting of the elements of a corresponding to the True values\n",
    "# of bool_idx\n",
    "print(a[bool_idx])\n",
    "\n",
    "# We can do all of the above in a single concise statement:\n",
    "print(a[a > 2])"
   ]
  },
  {
   "cell_type": "markdown",
   "id": "ebb38476-c368-49d4-87cf-ac5c57c7eca8",
   "metadata": {},
   "source": [
    "When working with numpy arrays, it’s often helpful to get the *indices* (not only the values) of array elements that meet certain conditions. There are a few numpy functions that you’ll definitely want to remember:\n",
    "\n",
    "-   [`argmax`](https://numpy.org/doc/stable/reference/generated/numpy.argmax.html) (get index of maximum element in array)\n",
    "-   [`argmin`](https://numpy.org/doc/stable/reference/generated/numpy.argmin.html) (get index of minimum element in array)\n",
    "-   [`argsort`](https://numpy.org/doc/stable/reference/generated/numpy.argsort.html) (get sorted list of indices, by element value, in ascending order)\n",
    "-   [`where`](https://numpy.org/doc/stable/reference/generated/numpy.where.html) (get indices of elements that meet some condition)"
   ]
  },
  {
   "cell_type": "code",
   "execution_count": 38,
   "id": "c26e1c0c-8c12-4df9-99cd-9614e36b64ae",
   "metadata": {},
   "outputs": [
    {
     "name": "stdout",
     "output_type": "stream",
     "text": [
      "2\n",
      "3\n",
      "[3 0 4 5 6 1 2 7]\n",
      "[7 2 1 6 5 4 0 3]\n",
      "[1 2 6 7]\n",
      "[2 7]\n"
     ]
    }
   ],
   "source": [
    "a = np.array([1, 8, 9, -3, 2, 4, 7, 9])\n",
    "\n",
    "# Get the index of the maximum element in a\n",
    "print(np.argmax(a))\n",
    "\n",
    "# Get the index of the minimum element in a\n",
    "# (this array has two elements with the maximum value - \n",
    "# only one index is returned)\n",
    "print(np.argmin(a))\n",
    "\n",
    "# Get sorted list of indices\n",
    "print(np.argsort(a))\n",
    "\n",
    "# Get sorted list of indices in descending order\n",
    "# [::-1] is a special slicing index that returns the reversed list\n",
    "print(np.argsort(a)[::-1])\n",
    "\n",
    "# Get indices of elements that meet some condition\n",
    "# this returns a tuple, the list of indices is the first entry\n",
    "# so we use [0] to get it\n",
    "print(np.where(a > 5)[0])\n",
    "\n",
    "# Get indices of elements that meet some condition\n",
    "# this example shows how to get the index of *all* the max values\n",
    "print(np.where(a >= a[np.argmax(a)])[0])"
   ]
  },
  {
   "cell_type": "markdown",
   "id": "83e9e67d-6b7c-4b76-897a-ed48c3d578f9",
   "metadata": {},
   "source": [
    "For brevity we have left out a lot of details about numpy array indexing; if you want to know more you should read the documentation."
   ]
  },
  {
   "cell_type": "markdown",
   "id": "7ab927d6-f7d6-4b6f-ad1d-60451d55b670",
   "metadata": {},
   "source": [
    "### Datatypes"
   ]
  },
  {
   "cell_type": "markdown",
   "id": "3ccb9dea-1ee7-42e8-b5b9-a623fe7ab745",
   "metadata": {},
   "source": [
    "Every numpy array is a grid of elements of the same type. Numpy provides a large set of numeric datatypes that you can use to construct arrays. Numpy tries to guess a datatype when you create an array, but functions that construct arrays usually also include an optional argument to explicitly specify the datatype. Here is an example:"
   ]
  },
  {
   "cell_type": "code",
   "execution_count": null,
   "id": "2b021a07-6390-4216-931d-06bf28a996dc",
   "metadata": {},
   "outputs": [],
   "source": [
    "x = np.array([1, 2])  # Let numpy choose the datatype\n",
    "y = np.array([1.0, 2.0])  # Let numpy choose the datatype\n",
    "z = np.array([1, 2], dtype=np.int64)  # Force a particular datatype\n",
    "\n",
    "print(x.dtype, y.dtype, z.dtype)"
   ]
  },
  {
   "cell_type": "markdown",
   "id": "b884c694-57a4-49d3-9df5-8a6898934831",
   "metadata": {},
   "source": [
    "You can read all about numpy datatypes in the [documentation](http://docs.scipy.org/doc/numpy/reference/arrays.dtypes.html)."
   ]
  },
  {
   "cell_type": "markdown",
   "id": "cb3c901b-b344-400d-9e0f-b2fa70e28e4d",
   "metadata": {},
   "source": [
    "### Array math"
   ]
  },
  {
   "cell_type": "markdown",
   "id": "2fea02dd-c4f7-4bd4-8006-9a2cb0c7cef2",
   "metadata": {},
   "source": [
    "What makes working with `numpy` so powerful and convenient is that it comes with many *vectorized* math functions for computation over elements of an array. These functions are highly optimized and are *very* fast - much, much faster than using an explicit `for` loop.\n",
    "\n",
    "For example, let’s create a large array of random values and then sum it both ways. We’ll use a `%%time` *cell magic* to time them."
   ]
  },
  {
   "cell_type": "code",
   "execution_count": 39,
   "id": "92314cea-6001-4207-b40e-d0208a1597e2",
   "metadata": {},
   "outputs": [],
   "source": [
    "a = np.random.random(100000000)"
   ]
  },
  {
   "cell_type": "code",
   "execution_count": 40,
   "id": "33a4e0ed-340e-436c-882a-df2224c8af21",
   "metadata": {},
   "outputs": [
    {
     "name": "stdout",
     "output_type": "stream",
     "text": [
      "Wall time: 190 ms\n"
     ]
    }
   ],
   "source": [
    "%%time\n",
    "x = np.sum(a)"
   ]
  },
  {
   "cell_type": "code",
   "execution_count": 41,
   "id": "7252032c-bc87-4124-bb9d-0d2fada3e226",
   "metadata": {},
   "outputs": [
    {
     "name": "stdout",
     "output_type": "stream",
     "text": [
      "Wall time: 16.2 s\n"
     ]
    }
   ],
   "source": [
    "%%time\n",
    "x = 0 \n",
    "for element in a:\n",
    "  x = x + element"
   ]
  },
  {
   "cell_type": "markdown",
   "id": "c75990d9-6999-40a2-a0e3-e8207110676a",
   "metadata": {},
   "source": [
    "Look at the “Wall Time” in the output - note how much faster the vectorized version of the operation is! This type of fast computation is a major enabler of machine learning, which requires a *lot* of computation.\n",
    "\n",
    "Whenever possible, we will try to use these vectorized operations."
   ]
  },
  {
   "cell_type": "markdown",
   "id": "b2120332-98ac-4685-9488-054a21ec141f",
   "metadata": {},
   "source": [
    "Some mathematic functions are available both as operator overloads and as functions in the numpy module."
   ]
  },
  {
   "cell_type": "markdown",
   "id": "604243cf-4411-44a3-9b25-789631caf959",
   "metadata": {},
   "source": [
    "For example, you can perform an elementwise sum on two arrays using either the + operator or the `add()` function.\n",
    "\n",
    "![](http://jalammar.github.io/images/numpy/numpy-arrays-adding-1.png)\n",
    "\n",
    "![](http://jalammar.github.io/images/numpy/numpy-matrix-arithmetic.png)"
   ]
  },
  {
   "cell_type": "code",
   "execution_count": null,
   "id": "e6d49bb6-ebfe-4416-8a7f-c1f5b77e5e8a",
   "metadata": {},
   "outputs": [],
   "source": [
    "x = np.array([[1,2],[3,4]], dtype=np.float64)\n",
    "y = np.array([[5,6],[7,8]], dtype=np.float64)\n",
    "\n",
    "# Elementwise sum; both produce the array\n",
    "print(x + y)\n",
    "print(np.add(x, y))"
   ]
  },
  {
   "cell_type": "markdown",
   "id": "66adf079-d0e8-4ceb-ae88-4e78447bb6d5",
   "metadata": {},
   "source": [
    "And this works for other operations as well, not only addition:\n",
    "\n",
    "![](http://jalammar.github.io/images/numpy/numpy-array-subtract-multiply-divide.png)"
   ]
  },
  {
   "cell_type": "code",
   "execution_count": null,
   "id": "83178bc8-6909-42ad-af86-1a7a76516a4c",
   "metadata": {},
   "outputs": [],
   "source": [
    "# Elementwise difference; both produce the array\n",
    "print(x - y)\n",
    "print(np.subtract(x, y))"
   ]
  },
  {
   "cell_type": "code",
   "execution_count": null,
   "id": "3bbca1af-53ab-44d7-a9df-e5a69463f715",
   "metadata": {},
   "outputs": [],
   "source": [
    "# Elementwise product; both produce the array\n",
    "print(x * y)\n",
    "print(np.multiply(x, y))"
   ]
  },
  {
   "cell_type": "code",
   "execution_count": null,
   "id": "e98baa36-56e0-4fdc-b371-ebe02e600e0f",
   "metadata": {},
   "outputs": [],
   "source": [
    "# Elementwise division; both produce the array\n",
    "# [[ 0.2         0.33333333]\n",
    "#  [ 0.42857143  0.5       ]]\n",
    "print(x / y)\n",
    "print(np.divide(x, y))"
   ]
  },
  {
   "cell_type": "code",
   "execution_count": null,
   "id": "226ebb2f-a24c-4f22-ae1c-d4c5302882a8",
   "metadata": {},
   "outputs": [],
   "source": [
    "# Elementwise square root; produces the array\n",
    "# [[ 1.          1.41421356]\n",
    "#  [ 1.73205081  2.        ]]\n",
    "print(np.sqrt(x))"
   ]
  },
  {
   "attachments": {
    "image.png": {
     "image/png": "[encoded data removed]"
    }
   },
   "cell_type": "markdown",
   "id": "25badfe7",
   "metadata": {},
   "source": [
    "#### Dot multiplication of matixes\n",
    "![image.png](attachment:image.png)\n",
    "The \"Dot Product\" is where we multiply matching members, then sum up:\n",
    "\n",
    "(1, 2, 3) • (7, 9, 11) = 1×7 + 2×9 + 3×11\n",
    "    = 58\n",
    "\n",
    "We match the 1st members (1 and 7), multiply them, likewise for the 2nd members (2 and 9) and the 3rd members (3 and 11), and finally sum them up."
   ]
  },
  {
   "cell_type": "markdown",
   "id": "d2125bff-5063-482e-97ac-f997665fe8a9",
   "metadata": {},
   "source": [
    "Note that unlike MATLAB, `*` is elementwise multiplication, not matrix multiplication. We instead use the `dot()` function to compute inner products of vectors, to multiply a vector by a matrix, and to multiply matrices. `dot()` is available both as a function in the numpy module and as an instance method of array objects:\n",
    "\n",
    "![](http://jalammar.github.io/images/numpy/numpy-matrix-dot-product-1.png)"
   ]
  },
  {
   "cell_type": "code",
   "execution_count": null,
   "id": "6e8eaf91-4f6a-4c82-b2a9-b4ab9c840554",
   "metadata": {},
   "outputs": [],
   "source": [
    "x = np.array([[1,2],[3,4]])\n",
    "y = np.array([[5,6],[7,8]])\n",
    "\n",
    "v = np.array([9,10])\n",
    "w = np.array([11, 12])\n",
    "\n",
    "# Inner product of vectors; both produce 219\n",
    "print(v.dot(w))\n",
    "print(np.dot(v, w))"
   ]
  },
  {
   "cell_type": "markdown",
   "id": "15dfbf0b-74c0-4684-81a9-851d4ebabe6a",
   "metadata": {},
   "source": [
    "You can also use the `@` operator which is equivalent to numpy's `dot` operator."
   ]
  },
  {
   "cell_type": "code",
   "execution_count": null,
   "id": "d0168e19-0fbe-43fc-a561-43db3eab3e6a",
   "metadata": {},
   "outputs": [],
   "source": [
    "print(v @ w)"
   ]
  },
  {
   "cell_type": "code",
   "execution_count": null,
   "id": "ed5a07e9-5e8c-4e92-9db6-9e0e7daf8e27",
   "metadata": {},
   "outputs": [],
   "source": [
    "# Matrix / vector product; both produce the rank 1 array [29 67]\n",
    "print(x.dot(v))\n",
    "print(np.dot(x, v))\n",
    "print(x @ v)"
   ]
  },
  {
   "cell_type": "code",
   "execution_count": null,
   "id": "e42300f0-be37-4c96-9d21-7c67cf06d370",
   "metadata": {},
   "outputs": [],
   "source": [
    "# Matrix / matrix product; both produce the rank 2 array\n",
    "# [[19 22]\n",
    "#  [43 50]]\n",
    "print(x.dot(y))\n",
    "print(np.dot(x, y))\n",
    "print(x @ y)"
   ]
  },
  {
   "cell_type": "markdown",
   "id": "df7ccfe0-587f-46e6-83c4-6a6cc38ff1ea",
   "metadata": {},
   "source": [
    "Besides for the functions that overload operators, Numpy also provides many useful functions for performing computations on arrays, such as `min()`, `max()`, `sum()`, and others:\n",
    "\n",
    "![](http://jalammar.github.io/images/numpy/numpy-matrix-aggregation-1.png)"
   ]
  },
  {
   "cell_type": "code",
   "execution_count": null,
   "id": "66adf5e5-773e-48fd-aff1-b42cec7a0491",
   "metadata": {},
   "outputs": [],
   "source": [
    "x = np.array([[1, 2], [3, 4], [5, 6]])\n",
    "\n",
    "print(np.max(x))  # Compute max of all elements; prints \"6\"\n",
    "print(np.min(x))  # Compute min of all elements; prints \"1\"\n",
    "print(np.sum(x))  # Compute sum of all elements; prints \"21\""
   ]
  },
  {
   "cell_type": "markdown",
   "id": "96121e02-4803-40ec-a8be-5c054519754d",
   "metadata": {},
   "source": [
    "Not only can we aggregate all the values in a matrix using these functions, but we can also aggregate across the rows or columns by using the `axis` parameter:\n",
    "\n",
    "![](http://jalammar.github.io/images/numpy/numpy-matrix-aggregation-4.png)"
   ]
  },
  {
   "cell_type": "code",
   "execution_count": 42,
   "id": "c5b0a1f4-4a9e-4d6f-aec0-21473253cda3",
   "metadata": {},
   "outputs": [
    {
     "name": "stdout",
     "output_type": "stream",
     "text": [
      "[5 6]\n",
      "[2 5 6]\n"
     ]
    }
   ],
   "source": [
    "x = np.array([[1, 2], [5, 3], [4, 6]])\n",
    "\n",
    "print(np.max(x, axis=0))  # Compute max of each column; prints \"[5 6]\"\n",
    "print(np.max(x, axis=1))  # Compute max of each row; prints \"[2 5 6]\""
   ]
  },
  {
   "cell_type": "markdown",
   "id": "e9b3473b-9d78-49b4-b405-9dcf386b93e0",
   "metadata": {},
   "source": [
    "You can find the full list of mathematical functions provided by numpy in the [documentation](http://docs.scipy.org/doc/numpy/reference/routines.math.html)."
   ]
  },
  {
   "cell_type": "markdown",
   "id": "d39ad048-edd3-4c0c-9620-13a8ba6cbf01",
   "metadata": {},
   "source": [
    "Apart from computing mathematical functions using arrays, we frequently need to reshape or otherwise manipulate data in arrays. The simplest example of this type of operation is transposing a matrix; to transpose a matrix, simply use the T attribute of an array object.\n",
    "\n",
    "![](http://jalammar.github.io/images/numpy/numpy-transpose.png)"
   ]
  },
  {
   "cell_type": "code",
   "execution_count": null,
   "id": "d50bc55d-177e-4d6a-aea9-291c48620eba",
   "metadata": {},
   "outputs": [],
   "source": [
    "x = np.array([[1, 2], [3, 4], [5, 6]])\n",
    "\n",
    "print(x)\n",
    "print(\"transpose\\n\", x.T)"
   ]
  },
  {
   "cell_type": "code",
   "execution_count": null,
   "id": "ddb52688-8f4d-4eb4-8249-c63a56b639a2",
   "metadata": {},
   "outputs": [],
   "source": [
    "v = np.array([[1,2,3]])\n",
    "print(v )\n",
    "print(\"transpose\\n\", v.T)"
   ]
  },
  {
   "cell_type": "markdown",
   "id": "aed0f9ad-f114-42a5-aae1-09672bdffc97",
   "metadata": {},
   "source": [
    "In more advanced use case, you may find yourself needing to change the dimensions of a certain matrix. This is often the case in machine learning applications where a certain model expects a certain shape for the inputs that is different from your dataset. numpy's `reshape()` method is useful in these cases.\n",
    "\n",
    "![](http://jalammar.github.io/images/numpy/numpy-reshape.png)"
   ]
  },
  {
   "cell_type": "markdown",
   "id": "59c09a49-bad1-4c70-a137-7c9a3c26d625",
   "metadata": {},
   "source": [
    "A common task in this class will be to convert a 1D array to a 2D array, and vice versa. We can use `reshape()` for this."
   ]
  },
  {
   "cell_type": "markdown",
   "id": "3ecf3a91-68c3-4186-a7ec-583d08e685db",
   "metadata": {},
   "source": [
    "For example, suppose we had this 2D array, but we need to pass it to a function that expects a 1D array."
   ]
  },
  {
   "cell_type": "code",
   "execution_count": 12,
   "id": "b1884a4d-c183-4c1a-b4aa-0e9e9925f284",
   "metadata": {},
   "outputs": [
    {
     "name": "stdout",
     "output_type": "stream",
     "text": [
      "[[1]\n",
      " [2]\n",
      " [3]]\n"
     ]
    },
    {
     "data": {
      "text/plain": [
       "(3, 1)"
      ]
     },
     "execution_count": 12,
     "metadata": {},
     "output_type": "execute_result"
    }
   ],
   "source": [
    "w = np.array([[1],[2],[3]])\n",
    "print(w)\n",
    "w.shape"
   ]
  },
  {
   "cell_type": "markdown",
   "id": "7bd067b9-1f56-4714-8baa-75f81a8b4d2c",
   "metadata": {},
   "source": [
    "We can remove the “unnecessary” extra dimension with"
   ]
  },
  {
   "cell_type": "code",
   "execution_count": 13,
   "id": "31ac2e61-d3de-4b10-ab04-df7d879754b1",
   "metadata": {},
   "outputs": [
    {
     "name": "stdout",
     "output_type": "stream",
     "text": [
      "[1 2 3]\n"
     ]
    },
    {
     "data": {
      "text/plain": [
       "(3,)"
      ]
     },
     "execution_count": 13,
     "metadata": {},
     "output_type": "execute_result"
    }
   ],
   "source": [
    "y = w.reshape(-1,)\n",
    "print(y)\n",
    "y.shape"
   ]
  },
  {
   "cell_type": "markdown",
   "id": "3224804b-5a14-4607-a536-4b3d584ee815",
   "metadata": {},
   "source": [
    "Note that we can pass -1 as one dimension and numpy will infer the correct size based on our matrix size!\n",
    "\n",
    "There’s also a `squeeze()` function that removes *all* of the “unnecessary” dimensions (dimensions that have size 1) from an array:"
   ]
  },
  {
   "cell_type": "code",
   "execution_count": 14,
   "id": "9c4a3539-3c94-4ac1-bae5-ccf4837dcccb",
   "metadata": {},
   "outputs": [
    {
     "name": "stdout",
     "output_type": "stream",
     "text": [
      "[1 2 3]\n"
     ]
    },
    {
     "data": {
      "text/plain": [
       "(3,)"
      ]
     },
     "execution_count": 14,
     "metadata": {},
     "output_type": "execute_result"
    }
   ],
   "source": [
    "z = w.squeeze()\n",
    "print(z)\n",
    "z.shape"
   ]
  },
  {
   "cell_type": "markdown",
   "id": "38a91793-4a23-44c9-babf-2a304434fefb",
   "metadata": {},
   "source": [
    "To go from a 1D to 2D array, we can just add in another dimension of size 1:"
   ]
  },
  {
   "cell_type": "code",
   "execution_count": 15,
   "id": "616aac7c-8dda-4239-bef8-95d6992ec41f",
   "metadata": {},
   "outputs": [
    {
     "data": {
      "text/plain": [
       "array([[1],\n",
       "       [2],\n",
       "       [3]])"
      ]
     },
     "execution_count": 15,
     "metadata": {},
     "output_type": "execute_result"
    }
   ],
   "source": [
    "y.reshape((-1,1))"
   ]
  },
  {
   "cell_type": "markdown",
   "id": "2f732295-05f9-4b61-9f24-8efd6b41de8d",
   "metadata": {},
   "source": [
    "### Broadcasting"
   ]
  },
  {
   "cell_type": "markdown",
   "id": "2a85d55c-e7e9-4552-b3af-4476d5ccbe86",
   "metadata": {},
   "source": [
    "Broadcasting is a powerful mechanism that allows numpy to work with arrays of different shapes when performing arithmetic operations."
   ]
  },
  {
   "cell_type": "markdown",
   "id": "7c21ce51-aeab-4da1-8d7f-60507ae6c22d",
   "metadata": {},
   "source": [
    "For example: basic linear algebra, we can only add (and perform similar element-wise operations) two matrics that have the *same* dimension. In numpy, if we want to add two matrics that have different dimensions, numpy will implicitly “extend” the dimension of one matrix to match the other so that we can perform the operation.\n",
    "\n",
    "So these operations will work, instead of returning an error:\n",
    "\n",
    "![](https://sebastianraschka.com/images/blog/2020/numpy-intro/broadcasting-1.png)\n",
    "\n",
    "![](https://sebastianraschka.com/images/blog/2020/numpy-intro/broadcasting-2.png)"
   ]
  },
  {
   "cell_type": "markdown",
   "id": "aa6e5252-c604-45b4-870a-4e7c6020ae99",
   "metadata": {},
   "source": [
    "Broadcasting two arrays together follows these rules:\n",
    "\n",
    "**Rule 1**: If the two arrays differ in their number of dimensions, the shape of the one with fewer dimensions is padded with ones on its leading (left) side.\n",
    "\n",
    "For example, in the following cell, `a` will be implicitly extended to shape (1,3):"
   ]
  },
  {
   "cell_type": "code",
   "execution_count": null,
   "id": "3e32bef1-4753-4893-89ca-4edc7288c766",
   "metadata": {},
   "outputs": [],
   "source": [
    "a = np.array([1,2,3])         # has shape (3,): one dimension\n",
    "b = np.array([[4], [5], [6]]) # has shape (3,1): two dimensions\n",
    "c = a + b                     # will have shape (3,3) (two dimensions)"
   ]
  },
  {
   "cell_type": "markdown",
   "id": "d148066a-992b-4b46-9944-0cce3ac61189",
   "metadata": {},
   "source": [
    "**Rule 2**: If the shape of the two arrays does not match in any dimension, the array with shape equal to 1 in that dimension is stretched to match the other shape.\n",
    "\n",
    "For example, in the following cell `a` will be implicitly extended to shape (3,2):"
   ]
  },
  {
   "cell_type": "code",
   "execution_count": null,
   "id": "3ce72464-c36b-45e5-8de5-f24eb11c63fb",
   "metadata": {},
   "outputs": [],
   "source": [
    "a = np.array([[1],[2],[3]])         # has shape (3,1)\n",
    "b = np.array([[4,5], [6,7], [8,9]]) # has shape (3,2)\n",
    "c = a + b                           # will have shape (3,2) "
   ]
  },
  {
   "cell_type": "markdown",
   "id": "3cc70138-0b7f-4a3c-a561-416491b24704",
   "metadata": {},
   "source": [
    "**Rule 3**: If in any dimension the sizes disagree and neither is equal to 1, an error is raised:"
   ]
  },
  {
   "cell_type": "code",
   "execution_count": null,
   "id": "c73f809a-5255-4958-b8af-f5c078838df5",
   "metadata": {},
   "outputs": [],
   "source": [
    "a = np.array([[1],[2],[3],[4]])      # has shape (4,1)\n",
    "b = np.array([[4,5], [6,7], [8,9]])  # has shape (3,2)\n",
    "c = a + b                            # ValueError: operands could not be broadcast"
   ]
  },
  {
   "cell_type": "markdown",
   "id": "9fcb707a-3ec0-4d0c-a1d3-7410a58262e2",
   "metadata": {},
   "source": [
    "For more detail, you can read the explanation from the [documentation](http://docs.scipy.org/doc/numpy/user/basics.broadcasting.html)."
   ]
  },
  {
   "cell_type": "markdown",
   "id": "bf330eac-6a83-4878-bfaa-f11f300928ac",
   "metadata": {},
   "source": [
    "Functions that support broadcasting are known as universal functions. You can find the list of all universal functions in the [documentation](http://docs.scipy.org/doc/numpy/reference/ufuncs.html#available-ufuncs)."
   ]
  },
  {
   "cell_type": "markdown",
   "id": "497f6be0-fc5e-4d99-aec4-2435498c61ea",
   "metadata": {},
   "source": [
    "Here are a few visual examples involving broadcasting.\n",
    "\n",
    "![](http://jalammar.github.io/images/numpy/numpy-array-broadcast.png)\n",
    "\n",
    "Note that these arrays are compatible in each dimension if they have either the same size in that dimension, or if one array has size 1 in that dimension.\n",
    "\n",
    "![](http://jalammar.github.io/images/numpy/numpy-matrix-broadcast.png)"
   ]
  },
  {
   "cell_type": "markdown",
   "id": "cbc5165b-fc47-4e14-8b58-3012adbad24e",
   "metadata": {},
   "source": [
    "And here are some more practical applications:"
   ]
  },
  {
   "cell_type": "code",
   "execution_count": null,
   "id": "e5636e31-b864-461e-b1bc-875549a857fa",
   "metadata": {},
   "outputs": [],
   "source": [
    "# Compute outer product of vectors\n",
    "v = np.array([1,2,3])  # v has shape (3,)\n",
    "w = np.array([4,5])    # w has shape (2,)\n",
    "# To compute an outer product, we first reshape v to be a column\n",
    "# vector of shape (3, 1); we can then broadcast it against w to yield\n",
    "# an output of shape (3, 2), which is the outer product of v and w:\n",
    "\n",
    "print(np.reshape(v, (3, 1)) * w)"
   ]
  },
  {
   "cell_type": "code",
   "execution_count": null,
   "id": "5fe4f55d-ad71-4f12-93d9-52e82790b8f0",
   "metadata": {},
   "outputs": [],
   "source": [
    "# Add a vector to each row of a matrix\n",
    "x = np.array([[1,2,3], [4,5,6]])\n",
    "# x has shape (2, 3) and v has shape (3,) so they broadcast to (2, 3),\n",
    "# giving the following matrix:\n",
    "\n",
    "print(x + v)"
   ]
  },
  {
   "cell_type": "code",
   "execution_count": null,
   "id": "5b703d95-f109-4828-968f-6b3f42dd281e",
   "metadata": {},
   "outputs": [],
   "source": [
    "# Add a vector to each column of a matrix\n",
    "# x has shape (2, 3) and w has shape (2,).\n",
    "# If we transpose x then it has shape (3, 2) and can be broadcast\n",
    "# against w to yield a result of shape (3, 2); transposing this result\n",
    "# yields the final result of shape (2, 3) which is the matrix x with\n",
    "# the vector w added to each column. Gives the following matrix:\n",
    "\n",
    "print((x.T + w).T)"
   ]
  },
  {
   "cell_type": "code",
   "execution_count": null,
   "id": "7f9e6053-4439-47cd-9890-e1607fa398fe",
   "metadata": {},
   "outputs": [],
   "source": [
    "# Another solution is to reshape w to be a row vector of shape (2, 1);\n",
    "# we can then broadcast it directly against x to produce the same\n",
    "# output.\n",
    "print(x + np.reshape(w, (2, 1)))"
   ]
  },
  {
   "cell_type": "code",
   "execution_count": null,
   "id": "2d4ac7f1-4aa5-445a-8cad-3cafc8946055",
   "metadata": {},
   "outputs": [],
   "source": [
    "# Multiply a matrix by a constant:\n",
    "# x has shape (2, 3). Numpy treats scalars as arrays of shape ();\n",
    "# these can be broadcast together to shape (2, 3), producing the\n",
    "# following array:\n",
    "print(x * 2)"
   ]
  },
  {
   "cell_type": "markdown",
   "id": "a2b8e88d-856f-4bd2-b266-cc579edc202f",
   "metadata": {},
   "source": [
    "Broadcasting typically makes your code more concise and faster, so you should strive to use it where possible."
   ]
  },
  {
   "cell_type": "markdown",
   "id": "ea213900-99db-4c10-9047-17abbb7b8772",
   "metadata": {},
   "source": [
    "This brief overview has touched on many of the important things that you need to know about numpy, but is far from complete. Check out the [numpy reference](http://docs.scipy.org/doc/numpy/reference/) to find out much more about numpy."
   ]
  },
  {
   "cell_type": "markdown",
   "id": "8c743bf9-95e7-4b21-8ef6-1d916db84104",
   "metadata": {},
   "source": [
    "## Matplotlib"
   ]
  },
  {
   "cell_type": "markdown",
   "id": "8630b702-f57d-422f-8c40-7912f1465851",
   "metadata": {},
   "source": [
    "We have already covered plotting"
   ]
  },
  {
   "cell_type": "code",
   "execution_count": 17,
   "id": "e49c3713-edd0-4c57-b3dd-a50357bfa2c4",
   "metadata": {},
   "outputs": [],
   "source": [
    "import matplotlib.pyplot as plt"
   ]
  },
  {
   "cell_type": "markdown",
   "id": "fdd662e3-04b1-4e56-8a9a-e15cec40b917",
   "metadata": {},
   "source": [
    "### Plotting"
   ]
  },
  {
   "cell_type": "markdown",
   "id": "4f966115-d35f-4981-9cf3-61985f2c7f02",
   "metadata": {},
   "source": [
    "The most important function in `matplotlib` is `plot`, which allows you to plot 2D data as a line plot. Here is a simple example:"
   ]
  },
  {
   "cell_type": "code",
   "execution_count": 43,
   "id": "7a6e0ff6-ae4b-4a50-a472-b1b5c0b3da23",
   "metadata": {},
   "outputs": [
    {
     "data": {
      "image/png": "[encoded data removed]",
      "text/plain": [
       "<Figure size 432x288 with 1 Axes>"
      ]
     },
     "metadata": {
      "needs_background": "light"
     },
     "output_type": "display_data"
    }
   ],
   "source": [
    "# Compute the x and y coordinates for points on a sine curve\n",
    "x = np.arange(0, 3 * np.pi, 0.1)\n",
    "y = np.sin(x)\n",
    "\n",
    "# Plot the points using matplotlib\n",
    "plt.plot(x, y)\n",
    "\n",
    "# Show the figure.\n",
    "plt.show()"
   ]
  },
  {
   "cell_type": "markdown",
   "id": "18e74092-d88b-4330-9272-deda49e09c56",
   "metadata": {},
   "source": [
    "With just a little bit of extra work we can easily plot multiple lines at once, and add a title, legend, and axis labels:"
   ]
  },
  {
   "cell_type": "code",
   "execution_count": 44,
   "id": "3d63edc1-23b2-40cd-91c5-2c603be9801e",
   "metadata": {},
   "outputs": [
    {
     "data": {
      "image/png": "[encoded data removed]",
      "text/plain": [
       "<Figure size 432x288 with 1 Axes>"
      ]
     },
     "metadata": {
      "needs_background": "light"
     },
     "output_type": "display_data"
    }
   ],
   "source": [
    "y_sin = np.sin(x)\n",
    "y_cos = np.cos(x)\n",
    "\n",
    "# Plot the points using matplotlib\n",
    "plt.plot(x, y_sin, label='Sine')\n",
    "plt.plot(x, y_cos, label='Cosine')\n",
    "plt.legend() # uses the label arguments given above\n",
    "\n",
    "plt.xlabel('x axis label')\n",
    "plt.ylabel('y axis label')\n",
    "plt.title('Sine and Cosine')\n",
    "\n",
    "# Show the figure.\n",
    "plt.show()"
   ]
  },
  {
   "cell_type": "markdown",
   "id": "d1aded07-7334-400d-bd72-22a2a60a65d8",
   "metadata": {},
   "source": [
    "Another useful, basic, plot is the `scatter` plot:  \n",
    "I will look at random later."
   ]
  },
  {
   "cell_type": "code",
   "execution_count": 45,
   "id": "04fc2f05-e3b6-4146-afca-7b039af7d605",
   "metadata": {},
   "outputs": [
    {
     "data": {
      "image/png": "[encoded data removed]",
      "text/plain": [
       "<Figure size 432x288 with 1 Axes>"
      ]
     },
     "metadata": {
      "needs_background": "light"
     },
     "output_type": "display_data"
    }
   ],
   "source": [
    "x = np.random.rand(50)\n",
    "y = np.random.rand(50)\n",
    "colors = np.random.randint(0, 2, 50)\n",
    "\n",
    "plt.scatter(x, y, c=colors)\n",
    "\n",
    "plt.show()"
   ]
  },
  {
   "cell_type": "markdown",
   "id": "8ebcd0b4-ba3b-4287-8ce6-b7c57492415b",
   "metadata": {},
   "source": [
    "When there is no logical connection between adjacent points (for example: if the horizontal axis is a categorical variable without a logical order), then you should *not* connect them (as in a line plot), since this implies a relationship that does not exist! Instead, you would use a scatter plot."
   ]
  },
  {
   "cell_type": "markdown",
   "id": "d9bb086c",
   "metadata": {},
   "source": [
    "### References:\n",
    "\n",
    "-   Parts of this notebook are adapted from a [tutorial from CS231N at Stanford University](https://cs231n.github.io/python-numpy-tutorial/), which is shared under the [MIT license]((https://opensource.org/licenses/MIT)).\n",
    "-   Parts of this notebook are adapted from Jake VanderPlas’s [Whirlwind Tour of Python](https://colab.research.google.com/github/jakevdp/WhirlwindTourOfPython/blob/master/Index.ipynb), which is shared under the [Creative Commons CC0 Public Domain Dedication license](https://github.com/jakevdp/WhirlwindTourOfPython/blob/master/LICENSE).\n",
    "-   The visualizations in this notebook are from [A Visual Intro to NumPy](http://jalammar.github.io/visual-numpy/) by Jay Alammar, which is licensed under a Creative Commons Attribution-NonCommercial-ShareAlike 4.0 International License.\n",
    "-   Parts of this notebook (and some images) about `numpy` broadcasting are adapted from Sebastian Raschka’s [STATS451](https://github.com/rasbt/stat451-machine-learning-fs20) materials."
   ]
  },
  {
   "cell_type": "code",
   "execution_count": null,
   "id": "7e52b3f0",
   "metadata": {},
   "outputs": [],
   "source": []
  }
 ],
 "metadata": {
  "kernelspec": {
   "display_name": "Python 3 (ipykernel)",
   "language": "python",
   "name": "python3"
  },
  "language_info": {
   "codemirror_mode": {
    "name": "ipython",
    "version": 3
   },
   "file_extension": ".py",
   "mimetype": "text/x-python",
   "name": "python",
   "nbconvert_exporter": "python",
   "pygments_lexer": "ipython3",
   "version": "3.9.7"
  }
 },
 "nbformat": 4,
 "nbformat_minor": 5
}
